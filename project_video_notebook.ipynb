{
  "cells": [
    {
      "cell_type": "markdown",
      "source": [
        ""
      ],
      "metadata": {
        "id": "qvU7mW8v1qBx"
      }
    },
    {
      "cell_type": "code",
      "source": [
        "#Ali Ahmed Hassan Mahmoud 1808627\n",
        "#Kareem Nader Abdelgawad Helmy 1803641\n",
        "#Amr fawzy fathy auraby 1803149\n",
        "#Amir Saleh hobeldin 1801393"
      ],
      "metadata": {
        "id": "oey3KU9I1mBd"
      },
      "execution_count": 1,
      "outputs": []
    },
    {
      "cell_type": "code",
      "source": [
        "import cv2\n",
        "from matplotlib import pyplot as plt\n",
        "import numpy as np\n",
        "import pylab\n",
        "from google.colab.patches import cv2_imshow\n",
        "from moviepy.editor import VideoFileClip\n",
        "%matplotlib inline"
      ],
      "metadata": {
        "colab": {
          "base_uri": "https://localhost:8080/"
        },
        "id": "lGQDQt3L1s74",
        "outputId": "b04f52b0-958e-467c-ab3b-931fcec26c26"
      },
      "execution_count": 3,
      "outputs": [
        {
          "output_type": "stream",
          "name": "stdout",
          "text": [
            "Imageio: 'ffmpeg-linux64-v3.3.1' was not found on your computer; downloading it now.\n",
            "Try 1. Download from https://github.com/imageio/imageio-binaries/raw/master/ffmpeg/ffmpeg-linux64-v3.3.1 (43.8 MB)\n",
            "Downloading: 8192/45929032 bytes (0.0%)\b\b\b\b\b\b\b\b\b\b\b\b\b\b\b\b\b\b\b\b\b\b\b\b\b\b2719744/45929032 bytes (5.9%)\b\b\b\b\b\b\b\b\b\b\b\b\b\b\b\b\b\b\b\b\b\b\b\b\b\b\b\b\b5758976/45929032 bytes (12.5%)\b\b\b\b\b\b\b\b\b\b\b\b\b\b\b\b\b\b\b\b\b\b\b\b\b\b\b\b\b\b8708096/45929032 bytes (19.0%)\b\b\b\b\b\b\b\b\b\b\b\b\b\b\b\b\b\b\b\b\b\b\b\b\b\b\b\b\b\b11771904/45929032 bytes (25.6%)\b\b\b\b\b\b\b\b\b\b\b\b\b\b\b\b\b\b\b\b\b\b\b\b\b\b\b\b\b\b\b14540800/45929032 bytes (31.7%)\b\b\b\b\b\b\b\b\b\b\b\b\b\b\b\b\b\b\b\b\b\b\b\b\b\b\b\b\b\b\b17301504/45929032 bytes (37.7%)\b\b\b\b\b\b\b\b\b\b\b\b\b\b\b\b\b\b\b\b\b\b\b\b\b\b\b\b\b\b\b20307968/45929032 bytes (44.2%)\b\b\b\b\b\b\b\b\b\b\b\b\b\b\b\b\b\b\b\b\b\b\b\b\b\b\b\b\b\b\b23068672/45929032 bytes (50.2%)\b\b\b\b\b\b\b\b\b\b\b\b\b\b\b\b\b\b\b\b\b\b\b\b\b\b\b\b\b\b\b25747456/45929032 bytes (56.1%)\b\b\b\b\b\b\b\b\b\b\b\b\b\b\b\b\b\b\b\b\b\b\b\b\b\b\b\b\b\b\b28811264/45929032 bytes (62.7%)\b\b\b\b\b\b\b\b\b\b\b\b\b\b\b\b\b\b\b\b\b\b\b\b\b\b\b\b\b\b\b31784960/45929032 bytes (69.2%)\b\b\b\b\b\b\b\b\b\b\b\b\b\b\b\b\b\b\b\b\b\b\b\b\b\b\b\b\b\b\b34906112/45929032 bytes (76.0%)\b\b\b\b\b\b\b\b\b\b\b\b\b\b\b\b\b\b\b\b\b\b\b\b\b\b\b\b\b\b\b38141952/45929032 bytes (83.0%)\b\b\b\b\b\b\b\b\b\b\b\b\b\b\b\b\b\b\b\b\b\b\b\b\b\b\b\b\b\b\b41148416/45929032 bytes (89.6%)\b\b\b\b\b\b\b\b\b\b\b\b\b\b\b\b\b\b\b\b\b\b\b\b\b\b\b\b\b\b\b44400640/45929032 bytes (96.7%)\b\b\b\b\b\b\b\b\b\b\b\b\b\b\b\b\b\b\b\b\b\b\b\b\b\b\b\b\b\b\b45929032/45929032 bytes (100.0%)\n",
            "  Done\n",
            "File saved as /root/.imageio/ffmpeg/ffmpeg-linux64-v3.3.1.\n"
          ]
        }
      ]
    },
    {
      "cell_type": "code",
      "execution_count": 4,
      "metadata": {
        "id": "RMbgQ5TXu0Wc"
      },
      "outputs": [],
      "source": [
        "def region_of_interest(img, vertices):\n",
        "    mask = np.zeros_like(img)\n",
        "    #channel_count = img.shape[2]\n",
        "    match_mask_color = 255\n",
        "    cv2.fillPoly(mask, vertices, match_mask_color)\n",
        "    masked_image = cv2.bitwise_and(img, mask)\n",
        "    return masked_image\n",
        "\n",
        "\n",
        "def drow_the_lines(img, lines):\n",
        "    img = np.copy(img)\n",
        "    blank_image = np.zeros((img.shape[0], img.shape[1], 3), dtype=np.uint8)\n",
        "\n",
        "    for line in lines:\n",
        "        for x1, y1, x2, y2 in line:\n",
        "            cv2.line(blank_image, (x1,y1), (x2,y2), (0, 255, 0), thickness=10)\n",
        "\n",
        "    img = cv2.addWeighted(img, 1, blank_image, 1, 0.0)\n",
        "    return img, blank_image\n",
        "\n"
      ]
    },
    {
      "cell_type": "code",
      "execution_count": 5,
      "metadata": {
        "id": "BVnTLYIgxq63"
      },
      "outputs": [],
      "source": [
        "def paint (img,vertices):\n",
        "  mask = np.zeros_like(img)\n",
        "  channel_count = img.shape[2]\n",
        "  cv2.fillPoly(mask, vertices, color=(0, 255, 255))\n",
        "  return mask"
      ]
    },
    {
      "cell_type": "code",
      "execution_count": 7,
      "metadata": {
        "id": "hSeOQJQ1Xf_q"
      },
      "outputs": [],
      "source": [
        "def get_car_position(x_min,w):\n",
        "    xm_per_pix=3.7/720\n",
        "    if x_min is not None:\n",
        "        car_position = w/2\n",
        "        lane_center_position = (x_min+(700/2))\n",
        "        center_dist = (car_position - lane_center_position) * xm_per_pix\n",
        "    \n",
        "    return center_dist \n",
        "def get_direction(center_dist):\n",
        "    direction = ''\n",
        "    if center_dist > 0:\n",
        "        direction = 'right'\n",
        "    elif center_dist < 0:\n",
        "        direction = 'left'\n",
        "    return direction"
      ]
    },
    {
      "cell_type": "code",
      "execution_count": 8,
      "metadata": {
        "id": "WXWGqlLpYH7u"
      },
      "outputs": [],
      "source": [
        "def write_on_image (img,x_min) :\n",
        "  font = cv2.FONT_HERSHEY_COMPLEX_SMALL\n",
        "  text1=get_car_position(x_min,1280)\n",
        "  direction=get_direction(text1)\n",
        "  text=abs(get_car_position(x_min,1280))\n",
        "  text = '{:04.3f}'.format(text) + 'm ' + direction + ' of center'\n",
        "  edited_photo=cv2.putText(img, text,(40,70), cv2.FONT_HERSHEY_COMPLEX_SMALL,1.5,(255,255,255),2,cv2.LINE_AA)\n",
        "  return edited_photo;"
      ]
    },
    {
      "cell_type": "code",
      "execution_count": 9,
      "metadata": {
        "id": "Xr53Pe2_4wLk"
      },
      "outputs": [],
      "source": [
        "def process(image):\n",
        "  print(image.shape)\n",
        "  region_of_interest_vertices = [\n",
        "    (200, 665),\n",
        "    (620,410),\n",
        "    (1130, 665)\n",
        "  ]\n",
        "  hls = cv2.cvtColor(image, cv2.COLOR_RGB2HLS)\n",
        "  h_channel=hls[:,:,0]\n",
        "  l_channel=hls[:,:,1]\n",
        "  s_channel=hls[:,:,2]\n",
        "  canny_image = cv2.Canny(s_channel, 100, 200)\n",
        "  cropped_image = region_of_interest(canny_image,\n",
        "                np.array([region_of_interest_vertices], np.int32))\n",
        "\n",
        "  lines = cv2.HoughLinesP(cropped_image,\n",
        "                        rho=6,\n",
        "                        theta=np.pi/180,\n",
        "                        threshold=160,\n",
        "                        lines=np.array([]),\n",
        "                        minLineLength=40,\n",
        "                        maxLineGap=25)\n",
        "  try :\n",
        "    image_with_lines , mask = drow_the_lines(image, lines)\n",
        "    c = (0,255,0)\n",
        "    indices = np.where(np.all(mask == c, axis=-1))\n",
        "    x_min=np.min(indices[1])\n",
        "    if x_min<285 or x_min is None :\n",
        "      x_min=285\n",
        "    y_max=np.max(indices[0])\n",
        "    x_topleft=x_min+310\n",
        "    y_min=np.min(indices[0])\n",
        "    if y_min<450 or y_min is None :\n",
        "      y_min=450\n",
        "  except:\n",
        "      image_with_lines=image\n",
        "      x_min=285\n",
        "      x_topleft=660\n",
        "      y_min=500\n",
        "      y_max=670\n",
        "  vertices_paint = [\n",
        "    (x_min,y_max),\n",
        "    (x_topleft,y_min),\n",
        "    (x_topleft+45,y_min),\n",
        "    (x_min+720, y_max)\n",
        "  ]\n",
        "  yellow_rec=paint(image,np.array([vertices_paint], np.int32))\n",
        "  last_image = cv2.addWeighted(image_with_lines, 0.8, yellow_rec, 1, 0.0)\n",
        "  last_edited=write_on_image (last_image,x_min)\n",
        "  return last_edited\n"
      ]
    },
    {
      "cell_type": "code",
      "execution_count": 12,
      "metadata": {
        "id": "NAu2eE_F03__"
      },
      "outputs": [],
      "source": [
        "first_frame = 1\n",
        "white_output = '/content/output_video.mp4'\n",
        "clip1 = VideoFileClip(\"/content/project_video.mp4\") \n",
        "white_clip = clip1.fl_image(process)\n",
        "white_clip.write_videofile(white_output, audio=False)"
      ]
    },
    {
      "cell_type": "code",
      "execution_count": null,
      "metadata": {
        "id": "dYuzzp2KipXE"
      },
      "outputs": [],
      "source": [
        ""
      ]
    }
  ],
  "metadata": {
    "colab": {
      "collapsed_sections": [],
      "name": "project_video_notebook.ipynb",
      "provenance": []
    },
    "kernelspec": {
      "display_name": "Python 3",
      "name": "python3"
    },
    "language_info": {
      "name": "python"
    }
  },
  "nbformat": 4,
  "nbformat_minor": 0
}